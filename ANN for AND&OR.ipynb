{
 "cells": [
  {
   "cell_type": "markdown",
   "id": "a47b0b11-45c3-486d-897e-70739bc0e73f",
   "metadata": {},
   "source": [
    "## *Applying ANN for AND gate*"
   ]
  },
  {
   "cell_type": "markdown",
   "id": "2b98b586-386c-4ed8-9e11-f51fb6071a3e",
   "metadata": {},
   "source": [
    "## AND gate truth table where x1,x2 are inputs and y as output\n",
    "### x1  x2  y\n",
    "### 0   0   0\n",
    "### 0   1   0\n",
    "### 1   0   0\n",
    "### 1   1   1"
   ]
  },
  {
   "cell_type": "code",
   "execution_count": 10,
   "id": "c5a2b95f-bf7f-4888-9236-43c2c2d6126c",
   "metadata": {},
   "outputs": [],
   "source": [
    "# Activation function\n",
    "def activation_fun(out,thresold):\n",
    "    if(out>=thresold):\n",
    "        return 1\n",
    "    else:\n",
    "        return 0\n",
    "\n",
    "#Building Perceptron\n",
    "def perceptron(ins):\n",
    "    x1=[0,0,1,1]\n",
    "    x2=[0,1,0,1]\n",
    "    y=[0,0,0,1]\n",
    "    #lets assume weights w11=1.2 and w21=0.7 and bias=0.5\n",
    "    w=[1.2,0.7]\n",
    "    bias=0.5\n",
    "    #thresold=1 and learning rate=0.3\n",
    "    thresold=1\n",
    "    learning_rate=lr=0.3\n",
    "    print(\"Initial weights \"+str(w)+\" and bias \"+str(bias))\n",
    "    print(\"-------------------------\")\n",
    "    #Training the model\n",
    "    i=0\n",
    "    while(i<4):\n",
    "        sum=x1[i]*w[0]+x2[i]*w[1]+1*bias\n",
    "        o=activation_fun(sum,thresold)\n",
    "        if(o!=y[i]):\n",
    "            w[0]=round(w[0]+lr*(y[i]-o)*x1[i],3)\n",
    "            w[1]=round(w[1]+lr*(y[i]-o)*x2[i],3)\n",
    "            bias=round(bias+lr*(y[i]-o)*1,3)\n",
    "            print(\"updated weights \"+str(w)+\" and bias \"+str(bias))\n",
    "            print(\"----------------------------\")\n",
    "            i=-1\n",
    "        i+=1\n",
    "    print(\"Final weights \"+str(w)+\" and bias \"+str(bias))\n",
    "    print(\"-----------------------------\")\n",
    "    #predicting output for given input\n",
    "    sum=ins[0]*w[0]+ins[1]*w[1]+1*bias\n",
    "    o=activation_fun(sum,thresold)\n",
    "    return o;\n",
    "    "
   ]
  },
  {
   "cell_type": "code",
   "execution_count": 15,
   "id": "8d69408e-ba4b-4b06-a553-2bf43a5902e9",
   "metadata": {},
   "outputs": [
    {
     "name": "stdout",
     "output_type": "stream",
     "text": [
      "Initial weights [1.2, 0.7] and bias 0.5\n",
      "-------------------------\n",
      "updated weights [1.2, 0.4] and bias 0.2\n",
      "----------------------------\n",
      "updated weights [0.9, 0.4] and bias -0.1\n",
      "----------------------------\n",
      "Final weights [0.9, 0.4] and bias -0.1\n",
      "-----------------------------\n",
      "ouput for the given input:0\n"
     ]
    }
   ],
   "source": [
    "#Testing model\n",
    "input=[1,0]\n",
    "print(\"ouput for the given input:\"+str(perceptron(input)))\n"
   ]
  },
  {
   "cell_type": "code",
   "execution_count": null,
   "id": "3d29bf1a-c1bf-4997-9f9a-781760ce6ed6",
   "metadata": {},
   "outputs": [],
   "source": []
  },
  {
   "cell_type": "markdown",
   "id": "87ac3ff4-63dd-40a5-85ee-9e810019506e",
   "metadata": {},
   "source": [
    "## *Applying ANN for OR gate*"
   ]
  },
  {
   "cell_type": "markdown",
   "id": "71573ac5-a686-4629-994b-63b6f930b4ea",
   "metadata": {},
   "source": [
    "## OR gate truth table where x1,x2 are inputs and y as output\n",
    "### x1  x2  y\n",
    "### 0   0   0\n",
    "### 0   1   1\n",
    "### 1   0   1\n",
    "### 1   1   1"
   ]
  },
  {
   "cell_type": "code",
   "execution_count": 18,
   "id": "04035fe0-d016-488a-ae81-21f03d0557e9",
   "metadata": {},
   "outputs": [],
   "source": [
    "# Activation function\n",
    "def activation_fun(out,thresold):\n",
    "    if(out>=thresold):\n",
    "        return 1\n",
    "    else:\n",
    "        return 0\n",
    "\n",
    "#Building Perceptron\n",
    "def perceptron(ins):\n",
    "    x1=[0,0,1,1]\n",
    "    x2=[0,1,0,1]\n",
    "    y=[0,1,1,1]\n",
    "    #lets assume weights w11=1.1 and w21=0.2 and bias=0.5\n",
    "    w=[1.2,0.2]\n",
    "    bias=0.5\n",
    "    #thresold=1 and learning rate=0.3\n",
    "    thresold=1\n",
    "    learning_rate=lr=0.3\n",
    "    print(\"Initial weights \"+str(w)+\" and bias \"+str(bias))\n",
    "    print(\"-------------------------\")\n",
    "    #Training the model\n",
    "    i=0\n",
    "    while(i<4):\n",
    "        sum=x1[i]*w[0]+x2[i]*w[1]+1*bias\n",
    "        o=activation_fun(sum,thresold)\n",
    "        if(o!=y[i]):\n",
    "            w[0]=round(w[0]+lr*(y[i]-o)*x1[i],3)\n",
    "            w[1]=round(w[1]+lr*(y[i]-o)*x2[i],3)\n",
    "            bias=round(bias+lr*(y[i]-o)*1,3)\n",
    "            print(\"updated weights \"+str(w)+\" and bias \"+str(bias))\n",
    "            print(\"----------------------------\")\n",
    "            i=-1\n",
    "        i+=1\n",
    "    print(\"Final weights \"+str(w)+\" and bias \"+str(bias))\n",
    "    print(\"-----------------------------\")\n",
    "    #predicting output for given input\n",
    "    sum=ins[0]*w[0]+ins[1]*w[1]+1*bias\n",
    "    o=activation_fun(sum,thresold)\n",
    "    return o;"
   ]
  },
  {
   "cell_type": "code",
   "execution_count": 19,
   "id": "97ffd7da-416a-49fd-9577-d6937130cf81",
   "metadata": {},
   "outputs": [
    {
     "name": "stdout",
     "output_type": "stream",
     "text": [
      "Initial weights [1.2, 0.2] and bias 0.5\n",
      "-------------------------\n",
      "updated weights [1.2, 0.5] and bias 0.8\n",
      "----------------------------\n",
      "Final weights [1.2, 0.5] and bias 0.8\n",
      "-----------------------------\n",
      "ouput for the given input:1\n"
     ]
    }
   ],
   "source": [
    "#Testing model\n",
    "input=[1,0]\n",
    "print(\"ouput for the given input:\"+str(perceptron(input)))"
   ]
  },
  {
   "cell_type": "code",
   "execution_count": null,
   "id": "d721bab2-042b-4d87-a7df-f5d0a951b131",
   "metadata": {},
   "outputs": [],
   "source": []
  }
 ],
 "metadata": {
  "kernelspec": {
   "display_name": "Python 3 (ipykernel)",
   "language": "python",
   "name": "python3"
  },
  "language_info": {
   "codemirror_mode": {
    "name": "ipython",
    "version": 3
   },
   "file_extension": ".py",
   "mimetype": "text/x-python",
   "name": "python",
   "nbconvert_exporter": "python",
   "pygments_lexer": "ipython3",
   "version": "3.8.10"
  }
 },
 "nbformat": 4,
 "nbformat_minor": 5
}
